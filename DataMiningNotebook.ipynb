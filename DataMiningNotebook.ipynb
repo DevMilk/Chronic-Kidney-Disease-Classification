{
 "cells": [
  {
   "cell_type": "markdown",
   "metadata": {
    "id": "59juvhXPHSxk"
   },
   "source": [
    "# Importing Data"
   ]
  },
  {
   "cell_type": "markdown",
   "metadata": {
    "id": "mejifplXDRGX"
   },
   "source": [
    "Arff dosyasındaki whitespace ile ilgili hatalar giderildi."
   ]
  },
  {
   "cell_type": "code",
   "execution_count": 20,
   "metadata": {
    "colab": {
     "base_uri": "https://localhost:8080/",
     "height": 422
    },
    "id": "nV7pjveY_Quk",
    "outputId": "2803d030-bb29-4f56-c961-ba9dbf0ae60b"
   },
   "outputs": [
    {
     "data": {
      "text/html": [
       "<div>\n",
       "<style scoped>\n",
       "    .dataframe tbody tr th:only-of-type {\n",
       "        vertical-align: middle;\n",
       "    }\n",
       "\n",
       "    .dataframe tbody tr th {\n",
       "        vertical-align: top;\n",
       "    }\n",
       "\n",
       "    .dataframe thead th {\n",
       "        text-align: right;\n",
       "    }\n",
       "</style>\n",
       "<table border=\"1\" class=\"dataframe\">\n",
       "  <thead>\n",
       "    <tr style=\"text-align: right;\">\n",
       "      <th></th>\n",
       "      <th>age</th>\n",
       "      <th>bp</th>\n",
       "      <th>sg</th>\n",
       "      <th>al</th>\n",
       "      <th>su</th>\n",
       "      <th>rbc</th>\n",
       "      <th>pc</th>\n",
       "      <th>pcc</th>\n",
       "      <th>ba</th>\n",
       "      <th>bgr</th>\n",
       "      <th>...</th>\n",
       "      <th>pcv</th>\n",
       "      <th>wbcc</th>\n",
       "      <th>rbcc</th>\n",
       "      <th>htn</th>\n",
       "      <th>dm</th>\n",
       "      <th>cad</th>\n",
       "      <th>appet</th>\n",
       "      <th>pe</th>\n",
       "      <th>ane</th>\n",
       "      <th>class</th>\n",
       "    </tr>\n",
       "  </thead>\n",
       "  <tbody>\n",
       "    <tr>\n",
       "      <th>0</th>\n",
       "      <td>48.0</td>\n",
       "      <td>80.0</td>\n",
       "      <td>1.020</td>\n",
       "      <td>1</td>\n",
       "      <td>0</td>\n",
       "      <td>NaN</td>\n",
       "      <td>normal</td>\n",
       "      <td>notpresent</td>\n",
       "      <td>notpresent</td>\n",
       "      <td>121.0</td>\n",
       "      <td>...</td>\n",
       "      <td>44.0</td>\n",
       "      <td>7800.0</td>\n",
       "      <td>5.2</td>\n",
       "      <td>yes</td>\n",
       "      <td>yes</td>\n",
       "      <td>no</td>\n",
       "      <td>good</td>\n",
       "      <td>no</td>\n",
       "      <td>no</td>\n",
       "      <td>ckd</td>\n",
       "    </tr>\n",
       "    <tr>\n",
       "      <th>1</th>\n",
       "      <td>7.0</td>\n",
       "      <td>50.0</td>\n",
       "      <td>1.020</td>\n",
       "      <td>4</td>\n",
       "      <td>0</td>\n",
       "      <td>NaN</td>\n",
       "      <td>normal</td>\n",
       "      <td>notpresent</td>\n",
       "      <td>notpresent</td>\n",
       "      <td>NaN</td>\n",
       "      <td>...</td>\n",
       "      <td>38.0</td>\n",
       "      <td>6000.0</td>\n",
       "      <td>NaN</td>\n",
       "      <td>no</td>\n",
       "      <td>no</td>\n",
       "      <td>no</td>\n",
       "      <td>good</td>\n",
       "      <td>no</td>\n",
       "      <td>no</td>\n",
       "      <td>ckd</td>\n",
       "    </tr>\n",
       "    <tr>\n",
       "      <th>2</th>\n",
       "      <td>62.0</td>\n",
       "      <td>80.0</td>\n",
       "      <td>1.010</td>\n",
       "      <td>2</td>\n",
       "      <td>3</td>\n",
       "      <td>normal</td>\n",
       "      <td>normal</td>\n",
       "      <td>notpresent</td>\n",
       "      <td>notpresent</td>\n",
       "      <td>423.0</td>\n",
       "      <td>...</td>\n",
       "      <td>31.0</td>\n",
       "      <td>7500.0</td>\n",
       "      <td>NaN</td>\n",
       "      <td>no</td>\n",
       "      <td>yes</td>\n",
       "      <td>no</td>\n",
       "      <td>poor</td>\n",
       "      <td>no</td>\n",
       "      <td>yes</td>\n",
       "      <td>ckd</td>\n",
       "    </tr>\n",
       "    <tr>\n",
       "      <th>3</th>\n",
       "      <td>48.0</td>\n",
       "      <td>70.0</td>\n",
       "      <td>1.005</td>\n",
       "      <td>4</td>\n",
       "      <td>0</td>\n",
       "      <td>normal</td>\n",
       "      <td>abnormal</td>\n",
       "      <td>present</td>\n",
       "      <td>notpresent</td>\n",
       "      <td>117.0</td>\n",
       "      <td>...</td>\n",
       "      <td>32.0</td>\n",
       "      <td>6700.0</td>\n",
       "      <td>3.9</td>\n",
       "      <td>yes</td>\n",
       "      <td>no</td>\n",
       "      <td>no</td>\n",
       "      <td>poor</td>\n",
       "      <td>yes</td>\n",
       "      <td>yes</td>\n",
       "      <td>ckd</td>\n",
       "    </tr>\n",
       "    <tr>\n",
       "      <th>4</th>\n",
       "      <td>51.0</td>\n",
       "      <td>80.0</td>\n",
       "      <td>1.010</td>\n",
       "      <td>2</td>\n",
       "      <td>0</td>\n",
       "      <td>normal</td>\n",
       "      <td>normal</td>\n",
       "      <td>notpresent</td>\n",
       "      <td>notpresent</td>\n",
       "      <td>106.0</td>\n",
       "      <td>...</td>\n",
       "      <td>35.0</td>\n",
       "      <td>7300.0</td>\n",
       "      <td>4.6</td>\n",
       "      <td>no</td>\n",
       "      <td>no</td>\n",
       "      <td>no</td>\n",
       "      <td>good</td>\n",
       "      <td>no</td>\n",
       "      <td>no</td>\n",
       "      <td>ckd</td>\n",
       "    </tr>\n",
       "    <tr>\n",
       "      <th>...</th>\n",
       "      <td>...</td>\n",
       "      <td>...</td>\n",
       "      <td>...</td>\n",
       "      <td>...</td>\n",
       "      <td>...</td>\n",
       "      <td>...</td>\n",
       "      <td>...</td>\n",
       "      <td>...</td>\n",
       "      <td>...</td>\n",
       "      <td>...</td>\n",
       "      <td>...</td>\n",
       "      <td>...</td>\n",
       "      <td>...</td>\n",
       "      <td>...</td>\n",
       "      <td>...</td>\n",
       "      <td>...</td>\n",
       "      <td>...</td>\n",
       "      <td>...</td>\n",
       "      <td>...</td>\n",
       "      <td>...</td>\n",
       "      <td>...</td>\n",
       "    </tr>\n",
       "    <tr>\n",
       "      <th>395</th>\n",
       "      <td>55.0</td>\n",
       "      <td>80.0</td>\n",
       "      <td>1.020</td>\n",
       "      <td>0</td>\n",
       "      <td>0</td>\n",
       "      <td>normal</td>\n",
       "      <td>normal</td>\n",
       "      <td>notpresent</td>\n",
       "      <td>notpresent</td>\n",
       "      <td>140.0</td>\n",
       "      <td>...</td>\n",
       "      <td>47.0</td>\n",
       "      <td>6700.0</td>\n",
       "      <td>4.9</td>\n",
       "      <td>no</td>\n",
       "      <td>no</td>\n",
       "      <td>no</td>\n",
       "      <td>good</td>\n",
       "      <td>no</td>\n",
       "      <td>no</td>\n",
       "      <td>notckd</td>\n",
       "    </tr>\n",
       "    <tr>\n",
       "      <th>396</th>\n",
       "      <td>42.0</td>\n",
       "      <td>70.0</td>\n",
       "      <td>1.025</td>\n",
       "      <td>0</td>\n",
       "      <td>0</td>\n",
       "      <td>normal</td>\n",
       "      <td>normal</td>\n",
       "      <td>notpresent</td>\n",
       "      <td>notpresent</td>\n",
       "      <td>75.0</td>\n",
       "      <td>...</td>\n",
       "      <td>54.0</td>\n",
       "      <td>7800.0</td>\n",
       "      <td>6.2</td>\n",
       "      <td>no</td>\n",
       "      <td>no</td>\n",
       "      <td>no</td>\n",
       "      <td>good</td>\n",
       "      <td>no</td>\n",
       "      <td>no</td>\n",
       "      <td>notckd</td>\n",
       "    </tr>\n",
       "    <tr>\n",
       "      <th>397</th>\n",
       "      <td>12.0</td>\n",
       "      <td>80.0</td>\n",
       "      <td>1.020</td>\n",
       "      <td>0</td>\n",
       "      <td>0</td>\n",
       "      <td>normal</td>\n",
       "      <td>normal</td>\n",
       "      <td>notpresent</td>\n",
       "      <td>notpresent</td>\n",
       "      <td>100.0</td>\n",
       "      <td>...</td>\n",
       "      <td>49.0</td>\n",
       "      <td>6600.0</td>\n",
       "      <td>5.4</td>\n",
       "      <td>no</td>\n",
       "      <td>no</td>\n",
       "      <td>no</td>\n",
       "      <td>good</td>\n",
       "      <td>no</td>\n",
       "      <td>no</td>\n",
       "      <td>notckd</td>\n",
       "    </tr>\n",
       "    <tr>\n",
       "      <th>398</th>\n",
       "      <td>17.0</td>\n",
       "      <td>60.0</td>\n",
       "      <td>1.025</td>\n",
       "      <td>0</td>\n",
       "      <td>0</td>\n",
       "      <td>normal</td>\n",
       "      <td>normal</td>\n",
       "      <td>notpresent</td>\n",
       "      <td>notpresent</td>\n",
       "      <td>114.0</td>\n",
       "      <td>...</td>\n",
       "      <td>51.0</td>\n",
       "      <td>7200.0</td>\n",
       "      <td>5.9</td>\n",
       "      <td>no</td>\n",
       "      <td>no</td>\n",
       "      <td>no</td>\n",
       "      <td>good</td>\n",
       "      <td>no</td>\n",
       "      <td>no</td>\n",
       "      <td>notckd</td>\n",
       "    </tr>\n",
       "    <tr>\n",
       "      <th>399</th>\n",
       "      <td>58.0</td>\n",
       "      <td>80.0</td>\n",
       "      <td>1.025</td>\n",
       "      <td>0</td>\n",
       "      <td>0</td>\n",
       "      <td>normal</td>\n",
       "      <td>normal</td>\n",
       "      <td>notpresent</td>\n",
       "      <td>notpresent</td>\n",
       "      <td>131.0</td>\n",
       "      <td>...</td>\n",
       "      <td>53.0</td>\n",
       "      <td>6800.0</td>\n",
       "      <td>6.1</td>\n",
       "      <td>no</td>\n",
       "      <td>no</td>\n",
       "      <td>no</td>\n",
       "      <td>good</td>\n",
       "      <td>no</td>\n",
       "      <td>no</td>\n",
       "      <td>notckd</td>\n",
       "    </tr>\n",
       "  </tbody>\n",
       "</table>\n",
       "<p>400 rows × 25 columns</p>\n",
       "</div>"
      ],
      "text/plain": [
       "      age    bp     sg al su     rbc        pc         pcc          ba    bgr  \\\n",
       "0    48.0  80.0  1.020  1  0     NaN    normal  notpresent  notpresent  121.0   \n",
       "1     7.0  50.0  1.020  4  0     NaN    normal  notpresent  notpresent    NaN   \n",
       "2    62.0  80.0  1.010  2  3  normal    normal  notpresent  notpresent  423.0   \n",
       "3    48.0  70.0  1.005  4  0  normal  abnormal     present  notpresent  117.0   \n",
       "4    51.0  80.0  1.010  2  0  normal    normal  notpresent  notpresent  106.0   \n",
       "..    ...   ...    ... .. ..     ...       ...         ...         ...    ...   \n",
       "395  55.0  80.0  1.020  0  0  normal    normal  notpresent  notpresent  140.0   \n",
       "396  42.0  70.0  1.025  0  0  normal    normal  notpresent  notpresent   75.0   \n",
       "397  12.0  80.0  1.020  0  0  normal    normal  notpresent  notpresent  100.0   \n",
       "398  17.0  60.0  1.025  0  0  normal    normal  notpresent  notpresent  114.0   \n",
       "399  58.0  80.0  1.025  0  0  normal    normal  notpresent  notpresent  131.0   \n",
       "\n",
       "     ...   pcv    wbcc  rbcc  htn   dm  cad  appet   pe  ane   class  \n",
       "0    ...  44.0  7800.0   5.2  yes  yes   no   good   no   no     ckd  \n",
       "1    ...  38.0  6000.0   NaN   no   no   no   good   no   no     ckd  \n",
       "2    ...  31.0  7500.0   NaN   no  yes   no   poor   no  yes     ckd  \n",
       "3    ...  32.0  6700.0   3.9  yes   no   no   poor  yes  yes     ckd  \n",
       "4    ...  35.0  7300.0   4.6   no   no   no   good   no   no     ckd  \n",
       "..   ...   ...     ...   ...  ...  ...  ...    ...  ...  ...     ...  \n",
       "395  ...  47.0  6700.0   4.9   no   no   no   good   no   no  notckd  \n",
       "396  ...  54.0  7800.0   6.2   no   no   no   good   no   no  notckd  \n",
       "397  ...  49.0  6600.0   5.4   no   no   no   good   no   no  notckd  \n",
       "398  ...  51.0  7200.0   5.9   no   no   no   good   no   no  notckd  \n",
       "399  ...  53.0  6800.0   6.1   no   no   no   good   no   no  notckd  \n",
       "\n",
       "[400 rows x 25 columns]"
      ]
     },
     "execution_count": 20,
     "metadata": {},
     "output_type": "execute_result"
    }
   ],
   "source": [
    "from scipy.io.arff import loadarff \n",
    "import pandas as pd\n",
    "import numpy as np\n",
    "import seaborn as sns\n",
    "sns.set(style=\"whitegrid\")\n",
    "\n",
    "string_attributes = [\"sg\",\"al\",\"su\",\"rbc\",\"pc\",\"pcc\",\"ba\",\"htn\",\"dm\",\"cad\",\"appet\",\"pe\",\"ane\",\"class\"]\n",
    "raw_data = loadarff('chronic_kidney_disease.arff')\n",
    "dataset = pd.DataFrame(raw_data[0])\n",
    "for colname in string_attributes:\n",
    "  dataset[colname] = dataset[colname].str.decode('utf-8') \n",
    "\n",
    "dataset.columns = dataset.columns.str.strip('\\'')\n",
    "dataset.columns = dataset.columns.str.strip()\n",
    "dataset = dataset.replace(\"?\",np.nan)\n",
    "dataset"
   ]
  },
  {
   "cell_type": "markdown",
   "metadata": {
    "id": "HouM11t18hM0"
   },
   "source": [
    "## Identifying Features on Data"
   ]
  },
  {
   "cell_type": "code",
   "execution_count": 2,
   "metadata": {
    "colab": {
     "base_uri": "https://localhost:8080/"
    },
    "id": "exfQY_WZKnDQ",
    "outputId": "27b19f8f-9ec6-4b4d-b059-c53be8397660"
   },
   "outputs": [
    {
     "name": "stdout",
     "output_type": "stream",
     "text": [
      "250 150\n"
     ]
    }
   ],
   "source": [
    "print(len(dataset[dataset.iloc[:,-1]=='ckd']),len(dataset[dataset.iloc[:,-1]=='notckd']))"
   ]
  },
  {
   "cell_type": "markdown",
   "metadata": {
    "id": "ybAMwPt2KXjO"
   },
   "source": [
    "    400 tane sample var, 250 tanesinde Kronik böbrek hastalığı varken, 150 tanesinde yok."
   ]
  },
  {
   "cell_type": "markdown",
   "metadata": {
    "id": "LHIzytOM8qwW"
   },
   "source": [
    "age\t-\tYaş(nümerik)\n",
    "bp\t-\tKan Basıncı(nümerik; mm/Hg)\n",
    "sg\t-\tÖzgül Ağırlık(nominal; 5 farklı değere sahip)\n",
    "al\t-   Albümin(nominal; 0,1,2,3,4,5 değerlerine sahip )\n",
    "su  -\tŞeker(nominal; 0,1,2,3,4,5 değerlerine sahip)\n",
    "rbc\t-\tKırmızı Kan Hücreleri(nominal; normal veya anormal)\n",
    "rbc -   Anlam dökümanda belirtilmemiş nümerik)\n",
    "pc\t-\tİrin hücresi(nominal; normal ya da anormal)\n",
    "pcc\t-\tİrin Hücre Kümeleri(nominal; mevcut ya da değil)\n",
    "ba\t-\tBakteri(nominal; mevcut ya da değil)\n",
    "bgr\t-\tKan Şekeri(nümerik; mgs/dl (litre başına gram))\n",
    "bu\t-\tKan üresi(nümerik; mgs/dl)\n",
    "sc\t-\tSerum kreatinin(nümerik; mgs/dl)\n",
    "sod\t-\tSodyum(nümerik; mEq/L)\n",
    "pot\t-\tPotasyum(nümerik; mEq/L)\n",
    "hemo-   Hemoglobin(nümerik; gms)\n",
    "pcv\t-\tPaketlenmiş Hücre Hacmi(nümerik)\n",
    "wc\t-\tBeyaz Kan Hücresi Sayısı(nümerik; kübik milimetre başına)\n",
    "rc\t-\tKırmızı Kan hücresi Sayısı(nümerik; kübik milimetre başına her milyon tane için)\n",
    "htn\t-\tHipertansiyon(nominal, var ya da yok)\n",
    "dm\t-\tŞeker Hastalığı(nominal, var ya da yok)\n",
    "cad\t-\tKoronar Arter Hastalığı(nominal, var ya da yok)\n",
    "appet-\tİştah(nominal, var ya da yok)\n",
    "pe\t-\tPedal Ödem(nominal, var ya da yok)\n",
    "ane\t-\tAnemi(nominal, var ya da yok)\n",
    "class-\tCKD Hastalığının olup olmadığı(2 sınıf var)\t"
   ]
  },
  {
   "cell_type": "code",
   "execution_count": 3,
   "metadata": {
    "colab": {
     "base_uri": "https://localhost:8080/"
    },
    "id": "fiVLC2tKUSyp",
    "outputId": "806255e9-e27f-4eed-88cc-339193615200"
   },
   "outputs": [
    {
     "name": "stdout",
     "output_type": "stream",
     "text": [
      "<class 'pandas.core.frame.DataFrame'>\n",
      "RangeIndex: 400 entries, 0 to 399\n",
      "Data columns (total 25 columns):\n",
      " #   Column  Non-Null Count  Dtype  \n",
      "---  ------  --------------  -----  \n",
      " 0   age     391 non-null    float64\n",
      " 1   bp      388 non-null    float64\n",
      " 2   sg      353 non-null    object \n",
      " 3   al      354 non-null    object \n",
      " 4   su      351 non-null    object \n",
      " 5   rbc     248 non-null    object \n",
      " 6   pc      335 non-null    object \n",
      " 7   pcc     396 non-null    object \n",
      " 8   ba      396 non-null    object \n",
      " 9   bgr     356 non-null    float64\n",
      " 10  bu      381 non-null    float64\n",
      " 11  sc      383 non-null    float64\n",
      " 12  sod     313 non-null    float64\n",
      " 13  pot     312 non-null    float64\n",
      " 14  hemo    348 non-null    float64\n",
      " 15  pcv     329 non-null    float64\n",
      " 16  wbcc    294 non-null    float64\n",
      " 17  rbcc    269 non-null    float64\n",
      " 18  htn     398 non-null    object \n",
      " 19  dm      398 non-null    object \n",
      " 20  cad     398 non-null    object \n",
      " 21  appet   399 non-null    object \n",
      " 22  pe      399 non-null    object \n",
      " 23  ane     399 non-null    object \n",
      " 24  class   400 non-null    object \n",
      "dtypes: float64(11), object(14)\n",
      "memory usage: 78.2+ KB\n"
     ]
    }
   ],
   "source": [
    "dataset.info()"
   ]
  },
  {
   "cell_type": "markdown",
   "metadata": {},
   "source": [
    "Verisetinde 11 tane nümerik, 13 tane nümerik olmayan sütunlar var. özellikle rbc, rbcc gibi değerler ile ilgili çok null değerler var."
   ]
  },
  {
   "cell_type": "markdown",
   "metadata": {
    "id": "5hMPqANZImQ6"
   },
   "source": [
    "## Cleaning Data"
   ]
  },
  {
   "cell_type": "markdown",
   "metadata": {
    "id": "7IH7y7hFXUU0"
   },
   "source": [
    "Çok fazla null değeri olan feature'ların yerine 0 ya da median bir değer koymak dataseti yorumlarken yanlış sonuçlar elde etmemize sebep olabileceği ve verisetinin boyutunu azaltabileceği için çok fazla null değeri olan feature'leri kaldırıp az null içeren değerleri bırakmak daha doğrudur"
   ]
  },
  {
   "cell_type": "code",
   "execution_count": 4,
   "metadata": {
    "colab": {
     "base_uri": "https://localhost:8080/",
     "height": 402
    },
    "id": "71t0zOLzIORV",
    "outputId": "154f7efd-6925-4ff9-8760-77b594547dd1"
   },
   "outputs": [
    {
     "data": {
      "text/html": [
       "<div>\n",
       "<style scoped>\n",
       "    .dataframe tbody tr th:only-of-type {\n",
       "        vertical-align: middle;\n",
       "    }\n",
       "\n",
       "    .dataframe tbody tr th {\n",
       "        vertical-align: top;\n",
       "    }\n",
       "\n",
       "    .dataframe thead th {\n",
       "        text-align: right;\n",
       "    }\n",
       "</style>\n",
       "<table border=\"1\" class=\"dataframe\">\n",
       "  <thead>\n",
       "    <tr style=\"text-align: right;\">\n",
       "      <th></th>\n",
       "      <th>age</th>\n",
       "      <th>bp</th>\n",
       "      <th>bu</th>\n",
       "      <th>sc</th>\n",
       "      <th>ane_yes</th>\n",
       "      <th>dm_yes</th>\n",
       "      <th>ba_present</th>\n",
       "      <th>htn_yes</th>\n",
       "      <th>appet_poor</th>\n",
       "      <th>pe_yes</th>\n",
       "      <th>pcc_present</th>\n",
       "      <th>cad_yes</th>\n",
       "      <th>class_notckd</th>\n",
       "    </tr>\n",
       "  </thead>\n",
       "  <tbody>\n",
       "    <tr>\n",
       "      <th>0</th>\n",
       "      <td>48.0</td>\n",
       "      <td>80.0</td>\n",
       "      <td>36.0</td>\n",
       "      <td>1.2</td>\n",
       "      <td>0</td>\n",
       "      <td>1</td>\n",
       "      <td>0</td>\n",
       "      <td>1</td>\n",
       "      <td>0</td>\n",
       "      <td>0</td>\n",
       "      <td>0</td>\n",
       "      <td>0</td>\n",
       "      <td>0</td>\n",
       "    </tr>\n",
       "    <tr>\n",
       "      <th>1</th>\n",
       "      <td>7.0</td>\n",
       "      <td>50.0</td>\n",
       "      <td>18.0</td>\n",
       "      <td>0.8</td>\n",
       "      <td>0</td>\n",
       "      <td>0</td>\n",
       "      <td>0</td>\n",
       "      <td>0</td>\n",
       "      <td>0</td>\n",
       "      <td>0</td>\n",
       "      <td>0</td>\n",
       "      <td>0</td>\n",
       "      <td>0</td>\n",
       "    </tr>\n",
       "    <tr>\n",
       "      <th>2</th>\n",
       "      <td>62.0</td>\n",
       "      <td>80.0</td>\n",
       "      <td>53.0</td>\n",
       "      <td>1.8</td>\n",
       "      <td>1</td>\n",
       "      <td>1</td>\n",
       "      <td>0</td>\n",
       "      <td>0</td>\n",
       "      <td>1</td>\n",
       "      <td>0</td>\n",
       "      <td>0</td>\n",
       "      <td>0</td>\n",
       "      <td>0</td>\n",
       "    </tr>\n",
       "    <tr>\n",
       "      <th>3</th>\n",
       "      <td>48.0</td>\n",
       "      <td>70.0</td>\n",
       "      <td>56.0</td>\n",
       "      <td>3.8</td>\n",
       "      <td>1</td>\n",
       "      <td>0</td>\n",
       "      <td>0</td>\n",
       "      <td>1</td>\n",
       "      <td>1</td>\n",
       "      <td>1</td>\n",
       "      <td>1</td>\n",
       "      <td>0</td>\n",
       "      <td>0</td>\n",
       "    </tr>\n",
       "    <tr>\n",
       "      <th>4</th>\n",
       "      <td>51.0</td>\n",
       "      <td>80.0</td>\n",
       "      <td>26.0</td>\n",
       "      <td>1.4</td>\n",
       "      <td>0</td>\n",
       "      <td>0</td>\n",
       "      <td>0</td>\n",
       "      <td>0</td>\n",
       "      <td>0</td>\n",
       "      <td>0</td>\n",
       "      <td>0</td>\n",
       "      <td>0</td>\n",
       "      <td>0</td>\n",
       "    </tr>\n",
       "    <tr>\n",
       "      <th>...</th>\n",
       "      <td>...</td>\n",
       "      <td>...</td>\n",
       "      <td>...</td>\n",
       "      <td>...</td>\n",
       "      <td>...</td>\n",
       "      <td>...</td>\n",
       "      <td>...</td>\n",
       "      <td>...</td>\n",
       "      <td>...</td>\n",
       "      <td>...</td>\n",
       "      <td>...</td>\n",
       "      <td>...</td>\n",
       "      <td>...</td>\n",
       "    </tr>\n",
       "    <tr>\n",
       "      <th>395</th>\n",
       "      <td>55.0</td>\n",
       "      <td>80.0</td>\n",
       "      <td>49.0</td>\n",
       "      <td>0.5</td>\n",
       "      <td>0</td>\n",
       "      <td>0</td>\n",
       "      <td>0</td>\n",
       "      <td>0</td>\n",
       "      <td>0</td>\n",
       "      <td>0</td>\n",
       "      <td>0</td>\n",
       "      <td>0</td>\n",
       "      <td>1</td>\n",
       "    </tr>\n",
       "    <tr>\n",
       "      <th>396</th>\n",
       "      <td>42.0</td>\n",
       "      <td>70.0</td>\n",
       "      <td>31.0</td>\n",
       "      <td>1.2</td>\n",
       "      <td>0</td>\n",
       "      <td>0</td>\n",
       "      <td>0</td>\n",
       "      <td>0</td>\n",
       "      <td>0</td>\n",
       "      <td>0</td>\n",
       "      <td>0</td>\n",
       "      <td>0</td>\n",
       "      <td>1</td>\n",
       "    </tr>\n",
       "    <tr>\n",
       "      <th>397</th>\n",
       "      <td>12.0</td>\n",
       "      <td>80.0</td>\n",
       "      <td>26.0</td>\n",
       "      <td>0.6</td>\n",
       "      <td>0</td>\n",
       "      <td>0</td>\n",
       "      <td>0</td>\n",
       "      <td>0</td>\n",
       "      <td>0</td>\n",
       "      <td>0</td>\n",
       "      <td>0</td>\n",
       "      <td>0</td>\n",
       "      <td>1</td>\n",
       "    </tr>\n",
       "    <tr>\n",
       "      <th>398</th>\n",
       "      <td>17.0</td>\n",
       "      <td>60.0</td>\n",
       "      <td>50.0</td>\n",
       "      <td>1.0</td>\n",
       "      <td>0</td>\n",
       "      <td>0</td>\n",
       "      <td>0</td>\n",
       "      <td>0</td>\n",
       "      <td>0</td>\n",
       "      <td>0</td>\n",
       "      <td>0</td>\n",
       "      <td>0</td>\n",
       "      <td>1</td>\n",
       "    </tr>\n",
       "    <tr>\n",
       "      <th>399</th>\n",
       "      <td>58.0</td>\n",
       "      <td>80.0</td>\n",
       "      <td>18.0</td>\n",
       "      <td>1.1</td>\n",
       "      <td>0</td>\n",
       "      <td>0</td>\n",
       "      <td>0</td>\n",
       "      <td>0</td>\n",
       "      <td>0</td>\n",
       "      <td>0</td>\n",
       "      <td>0</td>\n",
       "      <td>0</td>\n",
       "      <td>1</td>\n",
       "    </tr>\n",
       "  </tbody>\n",
       "</table>\n",
       "<p>355 rows × 13 columns</p>\n",
       "</div>"
      ],
      "text/plain": [
       "      age    bp    bu   sc  ane_yes  dm_yes  ba_present  htn_yes  appet_poor  \\\n",
       "0    48.0  80.0  36.0  1.2        0       1           0        1           0   \n",
       "1     7.0  50.0  18.0  0.8        0       0           0        0           0   \n",
       "2    62.0  80.0  53.0  1.8        1       1           0        0           1   \n",
       "3    48.0  70.0  56.0  3.8        1       0           0        1           1   \n",
       "4    51.0  80.0  26.0  1.4        0       0           0        0           0   \n",
       "..    ...   ...   ...  ...      ...     ...         ...      ...         ...   \n",
       "395  55.0  80.0  49.0  0.5        0       0           0        0           0   \n",
       "396  42.0  70.0  31.0  1.2        0       0           0        0           0   \n",
       "397  12.0  80.0  26.0  0.6        0       0           0        0           0   \n",
       "398  17.0  60.0  50.0  1.0        0       0           0        0           0   \n",
       "399  58.0  80.0  18.0  1.1        0       0           0        0           0   \n",
       "\n",
       "     pe_yes  pcc_present  cad_yes  class_notckd  \n",
       "0         0            0        0             0  \n",
       "1         0            0        0             0  \n",
       "2         0            0        0             0  \n",
       "3         1            1        0             0  \n",
       "4         0            0        0             0  \n",
       "..      ...          ...      ...           ...  \n",
       "395       0            0        0             1  \n",
       "396       0            0        0             1  \n",
       "397       0            0        0             1  \n",
       "398       0            0        0             1  \n",
       "399       0            0        0             1  \n",
       "\n",
       "[355 rows x 13 columns]"
      ]
     },
     "execution_count": 4,
     "metadata": {},
     "output_type": "execute_result"
    }
   ],
   "source": [
    "columns_to_delete = [\"sg\",\"al\",\"su\",\"rbc\",\"pc\",\"bgr\",\"sod\",\"pot\",\"hemo\",\"pcv\",\"wbcc\",\"rbcc\"]\n",
    "discrete_columns = [\"sg\", \"al\", \"su\", \"rbc\", \"pc\", \"pcc\", \"ba\", \"htn\", \"dm\", \"cad\", \"appet\", \"pe\", \"ane\"]\n",
    "df =dataset.drop(columns= columns_to_delete)\n",
    "\n",
    "numeric_columns = list(set(df.columns)-set(discrete_columns))\n",
    "numeric_columns.remove(\"class\")\n",
    "df[numeric_columns] = df[numeric_columns].apply(pd.to_numeric)\n",
    "df = df.dropna() \n",
    "cl = list(set(discrete_columns)-set(columns_to_delete)) \n",
    "cl.append(\"class\")\n",
    "df = pd.get_dummies(df, drop_first=True, columns=cl)\n",
    "df"
   ]
  },
  {
   "cell_type": "markdown",
   "metadata": {
    "id": "wGQ74iYxibc0"
   },
   "source": [
    "Nümerik özelliklerin kutu grafiklerinin çizdirilmesi"
   ]
  },
  {
   "cell_type": "code",
   "execution_count": 5,
   "metadata": {
    "colab": {
     "base_uri": "https://localhost:8080/",
     "height": 441
    },
    "id": "bDIbGe-pJ6gC",
    "outputId": "1f913c5e-276d-4120-f976-866a4133c833"
   },
   "outputs": [
    {
     "name": "stdout",
     "output_type": "stream",
     "text": [
      "              age          bu          bp          sc\n",
      "count  355.000000  355.000000  355.000000  355.000000\n",
      "mean    52.490141   57.887887   76.676056    3.080704\n",
      "std     16.228133   51.027094   13.908270    5.855687\n",
      "min      5.000000    1.500000   50.000000    0.400000\n",
      "25%     43.000000   27.000000   70.000000    0.900000\n",
      "50%     55.000000   42.000000   80.000000    1.300000\n",
      "75%     65.000000   66.000000   80.000000    2.800000\n",
      "max     90.000000  391.000000  180.000000   76.000000\n"
     ]
    },
    {
     "data": {
      "text/plain": [
       "<AxesSubplot:>"
      ]
     },
     "execution_count": 5,
     "metadata": {},
     "output_type": "execute_result"
    },
    {
     "data": {
      "image/png": "[encoded data removed]",
      "text/plain": [
       "<Figure size 432x288 with 1 Axes>"
      ]
     },
     "metadata": {},
     "output_type": "display_data"
    }
   ],
   "source": [
    "import matplotlib.pyplot as plt\n",
    "\n",
    "print(df[numeric_columns].describe())\n",
    "\n",
    "df.boxplot(column=numeric_columns)"
   ]
  },
  {
   "cell_type": "markdown",
   "metadata": {
    "id": "tYenrpPQWRbO"
   },
   "source": [
    "Outlier'ların düzeltilmesi/giderilmesi. Hem Z skoruna hem de IQR skoruna göre outlier olmayan indexler elde edildi. 400 verinin içinde, 5 tane outlier bulundu ve çıkartıldı."
   ]
  },
  {
   "cell_type": "code",
   "execution_count": 6,
   "metadata": {
    "colab": {
     "base_uri": "https://localhost:8080/",
     "height": 285
    },
    "id": "JQ83vFkSWQ6r",
    "outputId": "540878fa-d108-45d3-a407-df3a28bd2b3c"
   },
   "outputs": [
    {
     "name": "stdout",
     "output_type": "stream",
     "text": [
      "355\n"
     ]
    },
    {
     "data": {
      "image/png": "[encoded data removed]",
      "text/plain": [
       "<Figure size 432x288 with 1 Axes>"
      ]
     },
     "metadata": {},
     "output_type": "display_data"
    }
   ],
   "source": [
    "from scipy import stats\n",
    "\n",
    "def removeOutliers(dataframe,col,setToMedian=True,z_threshold = 3):\n",
    "  Q1 = dataframe[col].quantile(0.25)\n",
    "  Q3 = dataframe[col].quantile(0.75)\n",
    "  IQR = Q3 - Q1\n",
    "\n",
    "  passedIQR =  dataframe.loc[(dataframe[col] >= (Q1 - 1.5 * IQR)) & (dataframe[col] <= (Q3 + 1.5 * IQR))].index\n",
    "  safe_indexes = dataframe.iloc[np.where(np.abs(stats.zscore(dataframe[col])<z_threshold))[0]].index\n",
    "  safe_indexes = set(list(passedIQR)+list(safe_indexes))\n",
    "  temp = dataframe.copy()\n",
    "  if (setToMedian): temp.loc[~(df.index.isin(safe_indexes)),col] = temp[col].mean()\n",
    "  else: temp = temp.loc[safe_indexes]\n",
    "\n",
    "  return temp\n",
    "\n",
    "df_without_outliers = df.copy()\n",
    "for numeric_attribute in numeric_columns:\n",
    "  df_without_outliers = removeOutliers(df_without_outliers,numeric_attribute)\n",
    "\n",
    "print(len(df_without_outliers)) #Şu andaki veri sayısı\n",
    "df_without_outliers.boxplot(column=numeric_columns)\n",
    "plt.show()"
   ]
  },
  {
   "cell_type": "markdown",
   "metadata": {
    "id": "4D5NnTtZ6B1f"
   },
   "source": [
    "### Sınıfa olan korelasyonlarına göre sıralama ve görselleştirme"
   ]
  },
  {
   "cell_type": "code",
   "execution_count": 8,
   "metadata": {
    "colab": {
     "base_uri": "https://localhost:8080/",
     "height": 614
    },
    "id": "Z26rsjTmNSri",
    "outputId": "c9de25d7-ece4-431f-f2ed-ff99699f217e"
   },
   "outputs": [
    {
     "data": {
      "image/png": "[encoded data removed]",
      "text/plain": [
       "<Figure size 432x288 with 2 Axes>"
      ]
     },
     "metadata": {},
     "output_type": "display_data"
    },
    {
     "name": "stdout",
     "output_type": "stream",
     "text": [
      "                   age        bp        bu        sc   ane_yes    dm_yes  \\\n",
      "htn_yes       0.400957  0.270939  0.369929  0.267400  0.344087  0.617327   \n",
      "dm_yes        0.392648  0.220932  0.316228  0.198588  0.182039  1.000000   \n",
      "appet_poor    0.176831  0.180088  0.284264  0.169528  0.258993  0.320166   \n",
      "bu            0.187730  0.181814  1.000000  0.576702  0.446274  0.316228   \n",
      "pe_yes        0.139880  0.034031  0.354520  0.180395  0.217890  0.338592   \n",
      "ane_yes       0.067321  0.185627  0.446274  0.233949  1.000000  0.182039   \n",
      "age           1.000000  0.168316  0.187730  0.131908  0.067321  0.392648   \n",
      "sc            0.131908  0.128274  0.576702  1.000000  0.233949  0.198588   \n",
      "pcc_present   0.155226  0.056270  0.187205  0.050728  0.189167  0.163298   \n",
      "bp            0.168316  1.000000  0.181814  0.128274  0.185627  0.220932   \n",
      "cad_yes       0.236953  0.083601  0.230801  0.198645  0.056435  0.287270   \n",
      "ba_present    0.032600  0.111988  0.160745  0.051598  0.056240  0.076280   \n",
      "class_notckd -0.304418 -0.280451 -0.386595 -0.296007 -0.328163 -0.584642   \n",
      "\n",
      "              ba_present   htn_yes  appet_poor    pe_yes  pcc_present  \\\n",
      "htn_yes         0.081047  1.000000    0.361992  0.401465     0.188605   \n",
      "dm_yes          0.076280  0.617327    0.320166  0.338592     0.163298   \n",
      "appet_poor      0.148210  0.361992    1.000000  0.455938     0.188136   \n",
      "bu              0.160745  0.369929    0.284264  0.354520     0.187205   \n",
      "pe_yes          0.142090  0.401465    0.455938  1.000000     0.109818   \n",
      "ane_yes         0.056240  0.344087    0.258993  0.217890     0.189167   \n",
      "age             0.032600  0.400957    0.176831  0.139880     0.155226   \n",
      "sc              0.051598  0.267400    0.169528  0.180395     0.050728   \n",
      "pcc_present     0.267587  0.188605    0.188136  0.109818     1.000000   \n",
      "bp              0.111988  0.270939    0.180088  0.034031     0.056270   \n",
      "cad_yes         0.159129  0.319569    0.161055  0.189298     0.183095   \n",
      "ba_present      1.000000  0.081047    0.148210  0.142090     0.267587   \n",
      "class_notckd   -0.201347 -0.628400   -0.412267 -0.381302    -0.286951   \n",
      "\n",
      "               cad_yes  class_notckd  \n",
      "htn_yes       0.319569     -0.628400  \n",
      "dm_yes        0.287270     -0.584642  \n",
      "appet_poor    0.161055     -0.412267  \n",
      "bu            0.230801     -0.386595  \n",
      "pe_yes        0.189298     -0.381302  \n",
      "ane_yes       0.056435     -0.328163  \n",
      "age           0.236953     -0.304418  \n",
      "sc            0.198645     -0.296007  \n",
      "pcc_present   0.183095     -0.286951  \n",
      "bp            0.083601     -0.280451  \n",
      "cad_yes       1.000000     -0.250775  \n",
      "ba_present    0.159129     -0.201347  \n",
      "class_notckd -0.250775      1.000000  \n"
     ]
    }
   ],
   "source": [
    "import matplotlib.pyplot as plt\n",
    "import seaborn as sn\n",
    "corr = df.corr()\n",
    "absolute_corr = abs(df.corr())\n",
    "sn.heatmap(corr.sort_values('class_notckd', ascending=True), annot=False)\n",
    "plt.show()\n",
    "print(corr.sort_values('class_notckd', ascending=True))"
   ]
  },
  {
   "cell_type": "markdown",
   "metadata": {
    "id": "XrP7XY-P5DKU"
   },
   "source": [
    "Pearson korelasyonuna bakarsak, Böbrek yetmezliği hastalığının olup olmaması ile ilgili en yüksek negatif korelasyon yani böbrek yetmezliği hastalığının olması ile ilgili en yüksek korelasyona sahip 3 özellik sırasıyla:\n",
    "\n",
    "\n",
    "1.   htn_yes(Hipertansiyonun varlığı)\n",
    "2.   dm_yes(Şeker hastalığının varlığı)\n",
    "3.   appet_poor(İştahın yokluğu)\n",
    "\n",
    "özellikleridir. Buna dayanarak, hipertansiyon, iştahsızlık ve şeker hastalığının böbrek yetmezliği ile ilgisi olduğunu söyleyebiliriz.\n",
    "\n",
    "\n"
   ]
  },
  {
   "cell_type": "markdown",
   "metadata": {
    "id": "Rdtujk8jxoiF"
   },
   "source": [
    "### Korelasyon eşik değerini 0.4 kabul ederek özellikler arasında korelasyon bulunanları listelemek"
   ]
  },
  {
   "cell_type": "code",
   "execution_count": 9,
   "metadata": {
    "colab": {
     "base_uri": "https://localhost:8080/",
     "height": 350
    },
    "id": "BQJN281Sv-4_",
    "outputId": "8c789c88-6ece-4ae1-dbf1-3e9dc8035a39"
   },
   "outputs": [
    {
     "data": {
      "text/plain": [
       "<AxesSubplot:>"
      ]
     },
     "execution_count": 9,
     "metadata": {},
     "output_type": "execute_result"
    },
    {
     "data": {
      "image/png": "[encoded data removed]",
      "text/plain": [
       "<Figure size 432x288 with 2 Axes>"
      ]
     },
     "metadata": {},
     "output_type": "display_data"
    }
   ],
   "source": [
    "correlated_features = (abs(df.corr())>0.4)\n",
    "sn.heatmap(correlated_features)"
   ]
  },
  {
   "cell_type": "markdown",
   "metadata": {
    "id": "B7lGJt_tyCGW"
   },
   "source": [
    "*   Yaş-Hipertansiyon,\n",
    "*   Serum Kreatinin Değeri-Kan Üresi Değeri\n",
    "*   Kan Üresi Değeri-Şeker Hastalığı\n",
    "*   Kan Üresi Değeri-Pedal Ödem\n",
    "*   İştahsızlık-Pedal Ödem\n",
    "\n",
    "Özellikleri arasında korelasyon mevcut"
   ]
  },
  {
   "cell_type": "markdown",
   "metadata": {
    "id": "brJgnQu7nVBI"
   },
   "source": [
    "### Nümerik özelliklerin dağılımı"
   ]
  },
  {
   "cell_type": "code",
   "execution_count": 10,
   "metadata": {
    "colab": {
     "base_uri": "https://localhost:8080/",
     "height": 1000
    },
    "id": "T9lMNUl8kp4k",
    "outputId": "48ac8a55-0d74-4d2c-95fe-a1a680487b4b"
   },
   "outputs": [
    {
     "data": {
      "image/png": "[encoded data removed]",
      "text/plain": [
       "<Figure size 432x288 with 1 Axes>"
      ]
     },
     "metadata": {},
     "output_type": "display_data"
    },
    {
     "data": {
      "image/png": "[encoded data removed]",
      "text/plain": [
       "<Figure size 432x288 with 1 Axes>"
      ]
     },
     "metadata": {},
     "output_type": "display_data"
    },
    {
     "data": {
      "image/png": "[encoded data removed]",
      "text/plain": [
       "<Figure size 432x288 with 1 Axes>"
      ]
     },
     "metadata": {},
     "output_type": "display_data"
    },
    {
     "data": {
      "image/png": "[encoded data removed]",
      "text/plain": [
       "<Figure size 432x288 with 1 Axes>"
      ]
     },
     "metadata": {},
     "output_type": "display_data"
    }
   ],
   "source": [
    "import seaborn as sns\n",
    "samples_with_ckd = df_without_outliers.loc[df_without_outliers[\"class_notckd\"]==0]\n",
    "samples_without_ckd = df_without_outliers.loc[df_without_outliers[\"class_notckd\"]==1]\n",
    "sns.set_palette(\"OrRd\")\n",
    "\n",
    "for col in numeric_columns:\n",
    "  sns.kdeplot(samples_with_ckd[col],shade=True, common_norm=False,color=\"blue\")\n",
    "  sns.kdeplot(samples_without_ckd[col],shade=True, common_norm=False,color=\"orange\")\n",
    "  plt.legend([col+\"(hasta)\",col+\"(sağlıklı)\"])\n",
    "  plt.show()"
   ]
  },
  {
   "cell_type": "markdown",
   "metadata": {
    "id": "2Ry_ZmICoscI"
   },
   "source": [
    "Sağlıklı olan örneklerin nümerik özelliklerini, böbrek yetmezliğine sahip örneklerle karşılaştırdığımızda gördüğümüz üzere,\n",
    "\n",
    "1. **sc (Serum Kreatinin Değeri):** Serum kreatin değerleri 0 ve 1 arasında olmayanlar böbrek yetmezliğine sahip fakat 0 ve 1 arasında değerlere sahip olup da böbrek yetmezliğine sahip olanlar mevcut.\n",
    "\n",
    "2. **bu (Kan Üresi Değeri):** Kan üresi değerleri 0 ve yaklaşık 60 aralığında olmayan bireyler böbrek yetmezliğine sahip ama bu aralıktaki değerlere sahip olan hasta bireyler de mevcut.\n",
    "\n",
    "3. **bp (Kan Basıncı Değeri):** Kan Basıncı değerleri yaklaşık 50 ve 90 arasında olmayan bireyler böbrek yetmezliğine sahip ama bu aralıkta yer alıp da hasta olanlar da çoğunlukta.\n",
    "\n",
    "4. **age (Yaş):** Yaş, böbrek yetmezliği hastalığı için ayırt edici bir özellik değil fakat böbrek yetmezliği hastalığı olanlarda çoğunluğun 60-65 yaş arasında olduğunu söyleyebiliriz.\n",
    "\n",
    "\n"
   ]
  },
  {
   "cell_type": "markdown",
   "metadata": {
    "id": "uk2dXDoiIqbx"
   },
   "source": [
    "## Splitting Data"
   ]
  },
  {
   "cell_type": "code",
   "execution_count": 21,
   "metadata": {
    "colab": {
     "base_uri": "https://localhost:8080/"
    },
    "id": "oEqlLT2tHmZd",
    "outputId": "780b0791-49a8-4a1c-f495-810e2876c4d8"
   },
   "outputs": [
    {
     "name": "stdout",
     "output_type": "stream",
     "text": [
      "      age  ane_yes  appet_poor  ba_present    bp          bu  cad_yes  dm_yes  \\\n",
      "305  41.0        0           0           0  80.0   25.000000        0       0   \n",
      "66   67.0        0           0           0  70.0   55.000000        0       1   \n",
      "126  70.0        0           1           0  90.0  125.000000        0       1   \n",
      "287  39.0        0           0           0  70.0   22.000000        0       0   \n",
      "122  34.0        1           0           0  70.0   57.887887        0       0   \n",
      "..    ...      ...         ...         ...   ...         ...      ...     ...   \n",
      "80   74.0        0           0           0  80.0   98.000000        0       1   \n",
      "119  60.0        0           0           0  70.0   27.000000        0       0   \n",
      "309  51.0        0           0           0  60.0   25.000000        0       0   \n",
      "393  43.0        0           0           0  60.0   45.000000        0       0   \n",
      "111  65.0        0           0           0  80.0   71.000000        1       1   \n",
      "\n",
      "     htn_yes  pcc_present  pe_yes    sc  \n",
      "305        0            0       0   0.8  \n",
      "66         1            0       1   1.6  \n",
      "126        1            0       1   4.0  \n",
      "287        0            0       0   0.6  \n",
      "122        1            0       0  12.2  \n",
      "..       ...          ...     ...   ...  \n",
      "80         1            0       0   2.8  \n",
      "119        0            0       0   1.2  \n",
      "309        0            0       0   1.2  \n",
      "393        0            0       0   0.7  \n",
      "111        1            0       0   4.4  \n",
      "\n",
      "[266 rows x 12 columns] 305    1\n",
      "66     0\n",
      "126    0\n",
      "287    1\n",
      "122    0\n",
      "      ..\n",
      "80     0\n",
      "119    0\n",
      "309    1\n",
      "393    1\n",
      "111    0\n",
      "Name: class_notckd, Length: 266, dtype: uint8\n"
     ]
    }
   ],
   "source": [
    "from sklearn.model_selection import train_test_split\n",
    "data = df_without_outliers.copy()\n",
    "x_train,x_test,y_train,y_test = train_test_split(data.loc[:,data.columns.difference([\"class_notckd\"])],\n",
    "                                                 data.loc[:,\"class_notckd\"],test_size=0.25,random_state=42)\n",
    "print(x_train,y_train)\n",
    "\n",
    "#Data Leakage'ye maruz kalmamak için, eğitim verilerine id ve label bilgilerinin karışmadığından emin olalım\n",
    "assert(not (\"class_notckd\" in x_train.columns) and not (\"id\" in x_train.columns))"
   ]
  },
  {
   "cell_type": "markdown",
   "metadata": {
    "id": "cHNMss1iJqaM"
   },
   "source": [
    "## Training and Testing Model"
   ]
  },
  {
   "cell_type": "markdown",
   "metadata": {
    "id": "zTS2POPxTb9m"
   },
   "source": [
    "### Classification"
   ]
  },
  {
   "cell_type": "code",
   "execution_count": 17,
   "metadata": {
    "colab": {
     "base_uri": "https://localhost:8080/",
     "height": 1000
    },
    "id": "KwaZ4rBmJnVK",
    "outputId": "bb70471a-feee-4dc8-c9a1-98dd06a8022d"
   },
   "outputs": [
    {
     "name": "stdout",
     "output_type": "stream",
     "text": [
      "              precision    recall  f1-score   support\n",
      "\n",
      "           0       1.00      0.98      0.99        54\n",
      "           1       0.97      1.00      0.99        35\n",
      "\n",
      "    accuracy                           0.99        89\n",
      "   macro avg       0.99      0.99      0.99        89\n",
      "weighted avg       0.99      0.99      0.99        89\n",
      "\n"
     ]
    },
    {
     "data": {
      "image/png": "[encoded data removed]",
      "text/plain": [
       "<Figure size 432x288 with 2 Axes>"
      ]
     },
     "metadata": {},
     "output_type": "display_data"
    },
    {
     "name": "stdout",
     "output_type": "stream",
     "text": [
      "              precision    recall  f1-score   support\n",
      "\n",
      "           0       0.91      0.76      0.83        54\n",
      "           1       0.70      0.89      0.78        35\n",
      "\n",
      "    accuracy                           0.81        89\n",
      "   macro avg       0.81      0.82      0.81        89\n",
      "weighted avg       0.83      0.81      0.81        89\n",
      "\n"
     ]
    },
    {
     "data": {
      "image/png": "[encoded data removed]",
      "text/plain": [
       "<Figure size 432x288 with 2 Axes>"
      ]
     },
     "metadata": {},
     "output_type": "display_data"
    },
    {
     "name": "stderr",
     "output_type": "stream",
     "text": [
      "c:\\python38\\lib\\site-packages\\sklearn\\linear_model\\_logistic.py:763: ConvergenceWarning: lbfgs failed to converge (status=1):\n",
      "STOP: TOTAL NO. of ITERATIONS REACHED LIMIT.\n",
      "\n",
      "Increase the number of iterations (max_iter) or scale the data as shown in:\n",
      "    https://scikit-learn.org/stable/modules/preprocessing.html\n",
      "Please also refer to the documentation for alternative solver options:\n",
      "    https://scikit-learn.org/stable/modules/linear_model.html#logistic-regression\n",
      "  n_iter_i = _check_optimize_result(\n"
     ]
    },
    {
     "name": "stdout",
     "output_type": "stream",
     "text": [
      "              precision    recall  f1-score   support\n",
      "\n",
      "           0       1.00      0.96      0.98        54\n",
      "           1       0.95      1.00      0.97        35\n",
      "\n",
      "    accuracy                           0.98        89\n",
      "   macro avg       0.97      0.98      0.98        89\n",
      "weighted avg       0.98      0.98      0.98        89\n",
      "\n"
     ]
    },
    {
     "data": {
      "image/png": "[encoded data removed]",
      "text/plain": [
       "<Figure size 432x288 with 2 Axes>"
      ]
     },
     "metadata": {},
     "output_type": "display_data"
    }
   ],
   "source": [
    "from sklearn.ensemble import RandomForestClassifier\n",
    "from sklearn.naive_bayes import MultinomialNB\n",
    "from sklearn.linear_model import LogisticRegression\n",
    "from sklearn.metrics import classification_report, confusion_matrix, accuracy_score,plot_confusion_matrix\n",
    "\n",
    "def show_results(classifier):\n",
    "  classifier.fit(x_train, y_train)\n",
    "  y_pred = classifier.predict(x_test)\n",
    "  print(classification_report(y_test,y_pred))\n",
    "  confusion_matrix = pd.crosstab(y_test, y_pred, rownames=['Actual'], colnames=['Predicted'])\n",
    "  sn.heatmap(confusion_matrix, annot=True, cmap=\"YlGnBu\")\n",
    "  plt.show()  \n",
    "models = [RandomForestClassifier(n_estimators=20,max_leaf_nodes=5),MultinomialNB(),LogisticRegression()]\n",
    "for classifier in models:\n",
    "  show_results(classifier)"
   ]
  },
  {
   "cell_type": "markdown",
   "metadata": {
    "id": "LW1adr-l0pzk"
   },
   "source": [
    "-  Random Forest ve Lojistik Regresyon modelleri %96'nın üzerinde accuracy'e sahip iken, Multinomial Naive Bayes %76 accuracy'e sahip.\n",
    "\n",
    "-  1, class_notckd'yi yani böbrek yetmezliğine sahip olmayanları kastederken, 0 ise bu hastalığa sahip olanları kastediyor.\n",
    "\n",
    "-  Hastalığa sahip olmayıp, var olarak sınıflandırılanlar Random Forestve Lojistik Regresyon modellerinin sonuçlarında mevcut değil.\n",
    "\n",
    "-  Hastalığa sahip olup, yok olarak sınıflandırılanlar ise Random Forest'da %0-%4, Multinomial Naive Bayes'de %14-%33,  Lojistik Regresyon'da ise %2-%8 arasındadır.\n",
    "\n",
    "Bu durumda, en iyi sınıflandırmayı sağlayan model **Random Forest** olmuştur\n",
    "\n",
    "\n"
   ]
  },
  {
   "cell_type": "markdown",
   "metadata": {
    "id": "pREh725-TYOv"
   },
   "source": [
    "### Clustering"
   ]
  },
  {
   "cell_type": "code",
   "execution_count": 22,
   "metadata": {
    "colab": {
     "base_uri": "https://localhost:8080/",
     "height": 1000
    },
    "id": "7msbk7MgNXHz",
    "outputId": "488eb68f-99c5-4286-e0ea-b88af053d74b"
   },
   "outputs": [
    {
     "name": "stdout",
     "output_type": "stream",
     "text": [
      "KMeans(n_clusters=2)\n",
      "              precision    recall  f1-score   support\n",
      "\n",
      "           0       1.00      0.30      0.46        54\n",
      "           1       0.48      1.00      0.65        35\n",
      "\n",
      "    accuracy                           0.57        89\n",
      "   macro avg       0.74      0.65      0.55        89\n",
      "weighted avg       0.80      0.57      0.53        89\n",
      "\n"
     ]
    },
    {
     "data": {
      "image/png": "[encoded data removed]",
      "text/plain": [
       "<Figure size 432x288 with 2 Axes>"
      ]
     },
     "metadata": {},
     "output_type": "display_data"
    },
    {
     "name": "stdout",
     "output_type": "stream",
     "text": [
      "Birch(n_clusters=2, threshold=0.01)\n",
      "              precision    recall  f1-score   support\n",
      "\n",
      "           0       1.00      0.35      0.52        54\n",
      "           1       0.50      1.00      0.67        35\n",
      "\n",
      "    accuracy                           0.61        89\n",
      "   macro avg       0.75      0.68      0.59        89\n",
      "weighted avg       0.80      0.61      0.58        89\n",
      "\n"
     ]
    },
    {
     "data": {
      "image/png": "[encoded data removed]",
      "text/plain": [
       "<Figure size 432x288 with 2 Axes>"
      ]
     },
     "metadata": {},
     "output_type": "display_data"
    },
    {
     "name": "stdout",
     "output_type": "stream",
     "text": [
      "GaussianMixture(n_components=2, n_init=2)\n",
      "              precision    recall  f1-score   support\n",
      "\n",
      "           0       0.51      0.67      0.58        54\n",
      "           1       0.00      0.00      0.00        35\n",
      "\n",
      "    accuracy                           0.40        89\n",
      "   macro avg       0.25      0.33      0.29        89\n",
      "weighted avg       0.31      0.40      0.35        89\n",
      "\n"
     ]
    },
    {
     "data": {
      "image/png": "[encoded data removed]",
      "text/plain": [
       "<Figure size 432x288 with 2 Axes>"
      ]
     },
     "metadata": {},
     "output_type": "display_data"
    }
   ],
   "source": [
    "from sklearn.cluster import KMeans, Birch\n",
    "from sklearn.mixture import GaussianMixture\n",
    "from sklearn.metrics import classification_report\n",
    "\n",
    "def cluster(model,x_train,x_test,y_test):\n",
    "  model.fit(x_train)\n",
    "  prediction = model.predict(x_test)\n",
    "  print(classification_report(y_test,prediction))\n",
    "  return prediction\n",
    "\n",
    "models = [KMeans(n_clusters = 2),Birch(threshold=0.01, n_clusters=2),GaussianMixture(n_components=2,n_init=2)]\n",
    "for model in models:\n",
    "  print(model)\n",
    "  y_pred = cluster(model,x_train,x_test,y_test)\n",
    "  confusion_matrix = pd.crosstab(y_test, y_pred, rownames=['Actual'], colnames=['Predicted'])\n",
    "  sn.heatmap(confusion_matrix, annot=True)\n",
    "  plt.show()"
   ]
  },
  {
   "cell_type": "markdown",
   "metadata": {
    "id": "LNasBbR3H7mp"
   },
   "source": [
    "Confusion matrix'den anlaşılacağı üzere, clustering yöntemlerinin başarı oranları yakın olmakla birlikte, en yüksek başarıya ulaşan kümeleme yöntemi **Birch** olmuştur.\n",
    "\n",
    "Hiçbir clustering modeli, **böbrek yetmezliğine sahip olmayan birini**, **o hastalığa sahip** olarak sınıflandırmamıştır ancak **hasta birini**, **sağlıklı** olarak sınıflandırmada tüm cluster modelleri yaklaşık %60 ila %70 hata oranına sahiptir ki bu da, unsupervised yöntemlerin, supervised yöntemlere göre çoğunlukla daha az başarıya sahip olmalarından dolayıdır."
   ]
  }
 ],
 "metadata": {
  "colab": {
   "collapsed_sections": [],
   "name": "17011044_DataMining.ipynb",
   "provenance": [],
   "toc_visible": true
  },
  "kernelspec": {
   "display_name": "Python 3",
   "language": "python",
   "name": "python3"
  },
  "language_info": {
   "codemirror_mode": {
    "name": "ipython",
    "version": 3
   },
   "file_extension": ".py",
   "mimetype": "text/x-python",
   "name": "python",
   "nbconvert_exporter": "python",
   "pygments_lexer": "ipython3",
   "version": "3.8.5"
  }
 },
 "nbformat": 4,
 "nbformat_minor": 1
}
